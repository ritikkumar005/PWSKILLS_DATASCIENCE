{
 "cells": [
  {
   "cell_type": "markdown",
   "id": "c0870499-9d4a-4b47-897b-8a5d5de92d1d",
   "metadata": {},
   "source": [
    "Q1. How do you comment code in Python? What are the different types of comments?"
   ]
  },
  {
   "cell_type": "code",
   "execution_count": 1,
   "id": "99bfb771-97ef-4e6a-b7de-16e968de2241",
   "metadata": {},
   "outputs": [],
   "source": [
    " #single line comment \n",
    "\n"
   ]
  },
  {
   "cell_type": "code",
   "execution_count": 4,
   "id": "971fd937-0ff6-496c-b566-15e7cd17b831",
   "metadata": {},
   "outputs": [
    {
     "name": "stdout",
     "output_type": "stream",
     "text": [
      "THIS IS MULTILINE COMMENT\n"
     ]
    }
   ],
   "source": [
    "\n",
    "\"\"\"\n",
    "Multiline \n",
    "comment\n",
    "\"\"\"\n",
    "print('THIS IS MULTILINE COMMENT')"
   ]
  },
  {
   "cell_type": "markdown",
   "id": "06842af7-cc6f-4a3d-ab5a-960d58c6059c",
   "metadata": {},
   "source": [
    "What are variables in Python? How do you declare and assign values to variables?\n"
   ]
  },
  {
   "cell_type": "markdown",
   "id": "a56dd80b-6c25-442e-9344-94a0c2ec1fa4",
   "metadata": {},
   "source": [
    "variables are used to store data values. They act as containers for data that can be referenced and manipulated throughout a program. Variables in Python do not need explicit declaration to reserve memory space. The declaration happens automatically when you assign a value to a variable."
   ]
  },
  {
   "cell_type": "code",
   "execution_count": 1,
   "id": "7aff6a3d-db83-44b4-b978-a4917cf4a8eb",
   "metadata": {},
   "outputs": [
    {
     "name": "stdout",
     "output_type": "stream",
     "text": [
      "Name: John\n",
      "Age: 30\n",
      "Height: 5.9\n",
      "Is Employed: True\n"
     ]
    }
   ],
   "source": [
    "# Declaring and assigning values to variables\n",
    "name = \"John\"\n",
    "age = 30\n",
    "height = 5.9\n",
    "is_employed = True\n",
    "\n",
    "# Printing the values of the variables\n",
    "print(\"Name:\", name)\n",
    "print(\"Age:\", age)\n",
    "print(\"Height:\", height)\n",
    "print(\"Is Employed:\", is_employed)"
   ]
  },
  {
   "cell_type": "markdown",
   "id": "400b4c6e-26db-4114-b9c2-e03f0bffb3da",
   "metadata": {},
   "source": [
    "How do you convert one data type to another in Python?"
   ]
  },
  {
   "cell_type": "markdown",
   "id": "682ff52b-fef7-42ba-85cb-ceb379f0fc57",
   "metadata": {},
   "source": [
    "you can convert one data type to another using various built-in functions. This process is known as type casting or type conversion. Below are the common functions used for type conversion:"
   ]
  },
  {
   "cell_type": "code",
   "execution_count": 2,
   "id": "0583f353-7da7-42b1-8752-5e5a851b2b6b",
   "metadata": {},
   "outputs": [
    {
     "name": "stdout",
     "output_type": "stream",
     "text": [
      "123\n",
      "123\n"
     ]
    }
   ],
   "source": [
    "# From string\n",
    "num_str = \"123\"\n",
    "num_int = int(num_str)\n",
    "print(num_int)  # Output: 123\n",
    "\n",
    "# From float\n",
    "num_float = 123.45\n",
    "num_int = int(num_float)\n",
    "print(num_int)  # Output: 123 (note: it truncates the decimal part)"
   ]
  },
  {
   "cell_type": "markdown",
   "id": "fff5af55-06cc-4614-8c6d-47f79873be65",
   "metadata": {},
   "source": [
    "Q4. How do you write and execute a Python script from the command line?"
   ]
  },
  {
   "cell_type": "markdown",
   "id": "9e95a5b6-eec6-48f0-83b6-d3e0214cf479",
   "metadata": {},
   "source": [
    "# hello.py\n",
    "print(\"Hello, World!\")\n",
    "\n",
    "cd C:\\Users\\YourUsername\\Scripts\n",
    "python hello.py"
   ]
  },
  {
   "cell_type": "markdown",
   "id": "3ba04326-edf6-4789-8fee-57e684b93391",
   "metadata": {},
   "source": [
    "Q5 Given a list my_list = [1, 2, 3, 4, 5], write the code to slice the list and obtain the sub-list [2, 3].\n"
   ]
  },
  {
   "cell_type": "code",
   "execution_count": 8,
   "id": "600d7b67-4766-409e-a6cf-06fb92206b3f",
   "metadata": {},
   "outputs": [
    {
     "data": {
      "text/plain": [
       "[2, 3]"
      ]
     },
     "execution_count": 8,
     "metadata": {},
     "output_type": "execute_result"
    }
   ],
   "source": [
    "my_list = [1, 2, 3, 4, 5]\n",
    "my_list[1:3]"
   ]
  },
  {
   "cell_type": "markdown",
   "id": "06324fbc-e5fd-4fe4-8895-0da5a63a2ea6",
   "metadata": {},
   "source": [
    "Q6. What is a complex number in mathematics, and how is it represented in Python?"
   ]
  },
  {
   "cell_type": "markdown",
   "id": "98f5f2ea-2e6a-4b6f-afe5-29c6b8a3add0",
   "metadata": {},
   "source": [
    "In mathematics, a complex number is a number of the form \n",
    "\n",
    "a+bi, where:\n",
    "\n",
    "\n",
    "a and \n",
    "\n",
    "b are real numbers.\n",
    "𝑖 is the imaginary unit, satisfying \n",
    "𝑖\n",
    "2\n",
    "=\n",
    "−\n",
    "1\n",
    "i \n",
    "2\n",
    " =−1.\n",
    "The number \n",
    "𝑎\n",
    "a is called the real part of the complex number, and \n",
    "𝑏\n",
    "b is called the imaginary part."
   ]
  },
  {
   "cell_type": "code",
   "execution_count": 9,
   "id": "dc023630-8367-4617-92db-82c07f9f171d",
   "metadata": {},
   "outputs": [],
   "source": [
    "# Directly\n",
    "z1 = 3 + 4j\n",
    "\n",
    "# Using the complex() function\n",
    "z2 = complex(3, 4)"
   ]
  },
  {
   "cell_type": "code",
   "execution_count": 10,
   "id": "568683f5-3a0b-4176-848f-f4d967fd5ad0",
   "metadata": {},
   "outputs": [
    {
     "data": {
      "text/plain": [
       "(3+4j)"
      ]
     },
     "execution_count": 10,
     "metadata": {},
     "output_type": "execute_result"
    }
   ],
   "source": [
    "z1 "
   ]
  },
  {
   "cell_type": "code",
   "execution_count": 11,
   "id": "075d96df-cc05-43f2-9cdd-932d2837ab31",
   "metadata": {},
   "outputs": [
    {
     "data": {
      "text/plain": [
       "(3+4j)"
      ]
     },
     "execution_count": 11,
     "metadata": {},
     "output_type": "execute_result"
    }
   ],
   "source": [
    "z2"
   ]
  },
  {
   "cell_type": "markdown",
   "id": "be862b26-057b-407c-bd5b-9a1543dd48a2",
   "metadata": {},
   "source": [
    "Q7. What is the correct way to declare a variable named age and assign the value 25 to it?"
   ]
  },
  {
   "cell_type": "markdown",
   "id": "05848c67-1028-4524-847b-5edeb4e36c43",
   "metadata": {},
   "source": [
    "The correct way to declare a variable named age and assign the value 25 to it in Python is straightforward. You use the assignment operator = to assign the value to the variable. Here is how you do it:\n",
    "    age = 25\n"
   ]
  },
  {
   "cell_type": "code",
   "execution_count": 13,
   "id": "69124114-9d70-42c9-a19e-cc7c4c7a6f1f",
   "metadata": {},
   "outputs": [
    {
     "name": "stdout",
     "output_type": "stream",
     "text": [
      "The value of age is: 25\n"
     ]
    }
   ],
   "source": [
    "# Declaring the variable 'age' and assigning the value 25 to it\n",
    "age = 25\n",
    "\n",
    "# Printing the value of 'age' to verify the assignment\n",
    "print(\"The value of age is:\", age)"
   ]
  },
  {
   "cell_type": "markdown",
   "id": "cf3c4f91-d4c1-4da3-841f-d2a0f7266604",
   "metadata": {},
   "source": [
    "Q8. Declare a variable named price and assign the value 9.99 to it. What data type does this variable\n",
    "belong to?"
   ]
  },
  {
   "cell_type": "code",
   "execution_count": 14,
   "id": "257a8043-9283-4a18-bb7c-b90025d0d01c",
   "metadata": {},
   "outputs": [
    {
     "data": {
      "text/plain": [
       "float"
      ]
     },
     "execution_count": 14,
     "metadata": {},
     "output_type": "execute_result"
    }
   ],
   "source": [
    "price = 9.99\n",
    "type(price)"
   ]
  },
  {
   "cell_type": "markdown",
   "id": "49c4a760-b8d9-438b-aff8-31773a642d06",
   "metadata": {},
   "source": [
    "Q9. Create a variable named name and assign your full name to it as a string. How would you print the\n",
    "value of this variable?"
   ]
  },
  {
   "cell_type": "code",
   "execution_count": 15,
   "id": "fcdce052-fa99-4052-9f04-4055477ae2c3",
   "metadata": {},
   "outputs": [
    {
     "name": "stdout",
     "output_type": "stream",
     "text": [
      "Ritik Kumar\n"
     ]
    }
   ],
   "source": [
    "name = \"Ritik Kumar\"\n",
    "print(name)"
   ]
  },
  {
   "cell_type": "markdown",
   "id": "e193a496-e671-45e8-97be-d36415ca6baf",
   "metadata": {},
   "source": [
    "Q10. Given the string \"Hello, World!\", extract the substring \"World\"."
   ]
  },
  {
   "cell_type": "code",
   "execution_count": 16,
   "id": "febf3429-ebfe-496f-9d4a-6106bc1e824d",
   "metadata": {},
   "outputs": [
    {
     "data": {
      "text/plain": [
       "'World'"
      ]
     },
     "execution_count": 16,
     "metadata": {},
     "output_type": "execute_result"
    }
   ],
   "source": [
    "string = \"Hello, World!\"\n",
    "string[7:-1]"
   ]
  },
  {
   "cell_type": "markdown",
   "id": "3b367347-349b-4a35-9796-e2ba48e8f8ce",
   "metadata": {},
   "source": [
    "Q11. Create a variable named \"is_student\" and assign it a boolean value indicating whether you are\n",
    "currently a student or not."
   ]
  },
  {
   "cell_type": "code",
   "execution_count": 18,
   "id": "ed47fe39-c6b7-4324-966b-cba5eb710831",
   "metadata": {},
   "outputs": [
    {
     "data": {
      "text/plain": [
       "bool"
      ]
     },
     "execution_count": 18,
     "metadata": {},
     "output_type": "execute_result"
    }
   ],
   "source": [
    "is_student = True\n",
    "type(is_student)"
   ]
  },
  {
   "cell_type": "code",
   "execution_count": null,
   "id": "49674cae-ac4d-4027-8e6f-378de92719fe",
   "metadata": {},
   "outputs": [],
   "source": []
  }
 ],
 "metadata": {
  "kernelspec": {
   "display_name": "Python 3 (ipykernel)",
   "language": "python",
   "name": "python3"
  },
  "language_info": {
   "codemirror_mode": {
    "name": "ipython",
    "version": 3
   },
   "file_extension": ".py",
   "mimetype": "text/x-python",
   "name": "python",
   "nbconvert_exporter": "python",
   "pygments_lexer": "ipython3",
   "version": "3.10.8"
  }
 },
 "nbformat": 4,
 "nbformat_minor": 5
}
