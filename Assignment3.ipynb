{
 "cells": [
  {
   "cell_type": "markdown",
   "id": "6bf0fd79-c3c5-443a-8f01-0bd3555fc290",
   "metadata": {},
   "source": [
    "Q1. Which keyword is used to create a function? Create a function to return a list of odd numbers in the\n",
    "range of 1 to 25."
   ]
  },
  {
   "cell_type": "markdown",
   "id": "c594c957-ff24-443f-8823-7dcd92fff54d",
   "metadata": {},
   "source": [
    "The keyword used to create a function in Python is def."
   ]
  },
  {
   "cell_type": "code",
   "execution_count": 1,
   "id": "049f4418-7f8c-477b-9098-b8b3e252260e",
   "metadata": {},
   "outputs": [],
   "source": [
    "def odd():\n",
    "    list1=[]\n",
    "    for i in range(1,26):\n",
    "        if i%2 != 0 :\n",
    "            list1.append(i)\n",
    "    return list1\n",
    "\n",
    "            "
   ]
  },
  {
   "cell_type": "code",
   "execution_count": 2,
   "id": "0db5f022-6b28-49c9-9cc3-dae28b4a7645",
   "metadata": {},
   "outputs": [
    {
     "name": "stdout",
     "output_type": "stream",
     "text": [
      "[1, 3, 5, 7, 9, 11, 13, 15, 17, 19, 21, 23, 25]\n"
     ]
    }
   ],
   "source": [
    "print(odd())"
   ]
  },
  {
   "cell_type": "markdown",
   "id": "3717043b-1924-42d7-aeff-66194a1e87fd",
   "metadata": {},
   "source": [
    "Q2. Why *args and **kwargs is used in some functions? Create a function each for *args and **kwargs\n",
    "to demonstrate their use."
   ]
  },
  {
   "cell_type": "markdown",
   "id": "6c2a22aa-e5f2-4a79-b3c0-bf89c9b61cf5",
   "metadata": {},
   "source": [
    "*args is used when you want to pass a variable number of non-keyword (positional) arguments to a function.\n",
    "**kwargs is used when you want to pass a variable number of keyword arguments to a function."
   ]
  },
  {
   "cell_type": "code",
   "execution_count": 3,
   "id": "fc4c8de2-228b-40e4-a0fd-39de8f17421b",
   "metadata": {},
   "outputs": [],
   "source": [
    "def sum_numbers(*args):\n",
    "    return sum(args)\n",
    "\n"
   ]
  },
  {
   "cell_type": "markdown",
   "id": "a7f52df7-75d6-4d90-83f5-0ab5fa0fb343",
   "metadata": {},
   "source": [
    "# Call the function with a variable number of arguments\n",
    "print(sum_numbers(1, 2, 3))  # Output: 6\n",
    "print(sum_numbers(4, 5, 6, 7, 8))  # Output: 30\n"
   ]
  },
  {
   "cell_type": "code",
   "execution_count": 4,
   "id": "dc4979a1-d390-4aff-983f-574fd2be8674",
   "metadata": {},
   "outputs": [
    {
     "name": "stdout",
     "output_type": "stream",
     "text": [
      "name: Alice\n",
      "age: 30\n",
      "city: New York\n",
      "fruit: Apple\n",
      "color: Red\n",
      "price: 1.5\n"
     ]
    }
   ],
   "source": [
    "def print_info(**kwargs):\n",
    "    for key, value in kwargs.items():\n",
    "        print(f\"{key}: {value}\")\n",
    "\n",
    "# Call the function with a variable number of keyword arguments\n",
    "print_info(name=\"Alice\", age=30, city=\"New York\")\n",
    "# Output:\n",
    "# name: Alice\n",
    "# age: 30\n",
    "# city: New York\n",
    "\n",
    "print_info(fruit=\"Apple\", color=\"Red\", price=1.5)\n",
    "# Output:\n",
    "# fruit: Apple\n",
    "# color: Red\n",
    "# price: 1.5"
   ]
  },
  {
   "cell_type": "markdown",
   "id": "fbcc8d5c-d8d8-4ba3-ad7c-b0b1fafcdb2a",
   "metadata": {},
   "source": [
    "Q3. What is an iterator in python? Name the method used to initialise the iterator object and the method\n",
    "used for iteration. Use these methods to print the first five elements of the given list [2, 4, 6, 8, 10, 12, 14,\n",
    "16, 18, 20]."
   ]
  },
  {
   "cell_type": "markdown",
   "id": "a8c6c577-fcfe-4e4b-bba8-b1449234fd0d",
   "metadata": {},
   "source": [
    "An iterator in Python is an object that allows you to traverse through all the elements of a collection (such as a list or a tuple) one element at a time. An iterator must implement two methods:\n",
    "\n",
    "__iter__(): This method is used to initialize the iterator object. It returns the iterator object itself.\n",
    "\n",
    "\n",
    "__next__(): This method returns the next element from the collection. When there are no more elements, it raises a StopIteration exception."
   ]
  },
  {
   "cell_type": "code",
   "execution_count": 5,
   "id": "f269ace7-d3d9-42b9-8d24-9df9893ad83b",
   "metadata": {},
   "outputs": [
    {
     "name": "stdout",
     "output_type": "stream",
     "text": [
      "2\n",
      "4\n",
      "6\n",
      "8\n",
      "10\n"
     ]
    }
   ],
   "source": [
    "# Given list\n",
    "numbers = [2, 4, 6, 8, 10, 12, 14, 16, 18, 20]\n",
    "\n",
    "# Initialize the iterator object\n",
    "iterator = iter(numbers)\n",
    "\n",
    "# Print the first five elements using the next() method\n",
    "for _ in range(5):\n",
    "    print(next(iterator))"
   ]
  },
  {
   "cell_type": "markdown",
   "id": "53881b47-0915-42c1-b922-8bf85218acc8",
   "metadata": {},
   "source": [
    "Q4. What is a generator function in python? Why yield keyword is used? Give an example of a generator\n",
    "function."
   ]
  },
  {
   "cell_type": "markdown",
   "id": "8fde4221-e611-4ac7-9bfc-11d5eab709e0",
   "metadata": {},
   "source": [
    "A generator function in Python is a special type of function that generates values one at a time and only when required, using the yield keyword instead of return. When a generator function is called, it returns an iterator object but does not execute the function immediately. Instead, it executes when the next() function is called on the iterator, resuming execution from where it last yielded a value.\n",
    "\n",
    "\n",
    "The yield keyword is used in a generator function to:\n",
    "\n",
    "Produce a value and suspend the function’s execution, saving its state.\n",
    "\n",
    "Allow the function to be resumed later, continuing from where it left off."
   ]
  },
  {
   "cell_type": "code",
   "execution_count": 6,
   "id": "65bffbb8-febb-44f9-9875-d6b807f059a7",
   "metadata": {},
   "outputs": [
    {
     "name": "stdout",
     "output_type": "stream",
     "text": [
      "0\n",
      "2\n",
      "4\n",
      "6\n",
      "8\n"
     ]
    }
   ],
   "source": [
    "def generate_even_numbers(n):\n",
    "    num = 0\n",
    "    while n > 0:\n",
    "        yield num\n",
    "        num += 2\n",
    "        n -= 1   \n",
    "\n",
    "# Create a generator object\n",
    "even_numbers = generate_even_numbers(5)\n",
    "\n",
    "# Use the generator object to get values\n",
    "for even in even_numbers:\n",
    "    print(even)"
   ]
  },
  {
   "cell_type": "markdown",
   "id": "617f4e88-044f-4f5b-a4ba-6812f24610fd",
   "metadata": {},
   "source": [
    "Q5. Create a generator function for prime numbers less than 1000. Use the next() method to print the first 20 prime numbers."
   ]
  },
  {
   "cell_type": "markdown",
   "id": "e6a78a29-1dd1-49e8-bd43-c1891c5da504",
   "metadata": {},
   "source": [
    "To determine if a number n is prime, check divisibility from 2 up to the square root of n. If n is not divisible by any of these numbers, it is prime."
   ]
  },
  {
   "cell_type": "code",
   "execution_count": 7,
   "id": "c8826c31-a412-4cc1-8b6c-02025e86a84e",
   "metadata": {},
   "outputs": [
    {
     "name": "stdout",
     "output_type": "stream",
     "text": [
      "2\n",
      "3\n",
      "5\n",
      "7\n",
      "11\n",
      "13\n",
      "17\n",
      "19\n",
      "23\n",
      "29\n",
      "31\n",
      "37\n",
      "41\n",
      "43\n",
      "47\n",
      "53\n",
      "59\n",
      "61\n",
      "67\n",
      "71\n"
     ]
    }
   ],
   "source": [
    "def prime_generator():\n",
    "    for num in range(2, 1000):\n",
    "        if all(num % div != 0 for div in range(2, int(num**0.5) + 1)):\n",
    "            yield num\n",
    "\n",
    "# Create a generator object\n",
    "primes = prime_generator()\n",
    "\n",
    "# Print the first 20 prime numbers using the next() method\n",
    "for _ in range(20):\n",
    "    print(next(primes))"
   ]
  },
  {
   "cell_type": "markdown",
   "id": "fb987334-98f5-4e0f-8e21-e00635347b43",
   "metadata": {},
   "source": [
    "Q6. Write a python program to print the first 10 Fibonacci numbers using a while loop."
   ]
  },
  {
   "cell_type": "code",
   "execution_count": 8,
   "id": "dc38d566-8e27-4f67-a282-fc14f549ea2c",
   "metadata": {},
   "outputs": [],
   "source": [
    "def fib():\n",
    "    a=0\n",
    "    b=1\n",
    "    n=10\n",
    "    while(n>0):\n",
    "        yield a\n",
    "        a,b=b,b+a\n",
    "        n=n-1\n",
    "    "
   ]
  },
  {
   "cell_type": "code",
   "execution_count": 9,
   "id": "64a6ba06-e45f-4f4d-b196-d6992b3817f4",
   "metadata": {},
   "outputs": [],
   "source": [
    "fibb=fib()"
   ]
  },
  {
   "cell_type": "code",
   "execution_count": 10,
   "id": "dc9e3643-6a04-41c1-b1eb-e36b6de7d997",
   "metadata": {},
   "outputs": [
    {
     "name": "stdout",
     "output_type": "stream",
     "text": [
      "0\n",
      "1\n",
      "1\n",
      "2\n",
      "3\n",
      "5\n",
      "8\n",
      "13\n",
      "21\n",
      "34\n"
     ]
    }
   ],
   "source": [
    "for i in fibb:\n",
    "    print(i)"
   ]
  },
  {
   "cell_type": "markdown",
   "id": "21abca85-bd31-4533-8688-c4f833030038",
   "metadata": {},
   "source": [
    "Q7. Write a List Comprehension to iterate through the given string: ‘pwskills’.\n",
    "Expected output: ['p', 'w', 's', 'k', 'i', 'l', 'l', 's']"
   ]
  },
  {
   "cell_type": "code",
   "execution_count": 11,
   "id": "4168c98b-baac-490d-b67d-91f8c896a1a6",
   "metadata": {},
   "outputs": [],
   "source": [
    "st='pwskills'\n",
    "list1=[i for i in st]"
   ]
  },
  {
   "cell_type": "code",
   "execution_count": 12,
   "id": "4269cb62-3805-48ae-80e1-dbbdcafdf192",
   "metadata": {},
   "outputs": [
    {
     "data": {
      "text/plain": [
       "['p', 'w', 's', 'k', 'i', 'l', 'l', 's']"
      ]
     },
     "execution_count": 12,
     "metadata": {},
     "output_type": "execute_result"
    }
   ],
   "source": [
    "list1"
   ]
  },
  {
   "cell_type": "markdown",
   "id": "8d50ffc6-de77-4c68-9ad0-78d82b62a208",
   "metadata": {},
   "source": [
    "Q8. Write a python program to check whether a given number is Palindrome or not using a while loop."
   ]
  },
  {
   "cell_type": "code",
   "execution_count": 16,
   "id": "960d8f14-5445-4c86-9b5f-e1b09883f027",
   "metadata": {},
   "outputs": [
    {
     "name": "stdout",
     "output_type": "stream",
     "text": [
      "Palindrome\n"
     ]
    }
   ],
   "source": [
    "a = 123454321\n",
    "b = str(a)\n",
    "endindex=len(b)-1\n",
    "startindex=0\n",
    "flag=True\n",
    "\n",
    "\n",
    "while(startindex<=endindex):\n",
    "    if b[startindex] != b[endindex]:\n",
    "        flag=False\n",
    "    startindex+=1\n",
    "    endindex-=1\n",
    "\n",
    "if flag==True:\n",
    "    print(\"Palindrome\")\n",
    "else :\n",
    "    print(\"Not Palindrome\")\n",
    "        "
   ]
  },
  {
   "cell_type": "code",
   "execution_count": 17,
   "id": "26a25f73-def9-4988-bcf3-05831b46252b",
   "metadata": {},
   "outputs": [
    {
     "name": "stdin",
     "output_type": "stream",
     "text": [
      "Enter a number to check if it is a palindrome:  123454321\n"
     ]
    },
    {
     "name": "stdout",
     "output_type": "stream",
     "text": [
      "123454321 is a palindrome.\n"
     ]
    }
   ],
   "source": [
    "def is_palindrome(number):\n",
    "    original_number = number\n",
    "    reversed_number = 0\n",
    "\n",
    "    # Reverse the number using a while loop\n",
    "    while number > 0:\n",
    "        digit = number % 10\n",
    "        reversed_number = reversed_number * 10 + digit\n",
    "        number = number // 10\n",
    "\n",
    "    # Check if the original number is equal to the reversed number\n",
    "    return original_number == reversed_number\n",
    "\n",
    "# Input number to check\n",
    "number = int(input(\"Enter a number to check if it is a palindrome: \"))\n",
    "\n",
    "# Check and print result\n",
    "if is_palindrome(number):\n",
    "    print(f\"{number} is a palindrome.\")\n",
    "else:\n",
    "    print(f\"{number} is not a palindrome.\")"
   ]
  },
  {
   "cell_type": "markdown",
   "id": "a54ee5d0-c21e-484f-b73a-af2d480a8551",
   "metadata": {},
   "source": [
    "Q9. Write a code to print odd numbers from 1 to 100 using list comprehension.\n",
    "Note: Use a list comprehension to create a list from 1 to 100 and use another List comprehension to filter out odd numbers."
   ]
  },
  {
   "cell_type": "code",
   "execution_count": 21,
   "id": "39b8a06d-952d-489b-9554-e90ccda3deaa",
   "metadata": {},
   "outputs": [
    {
     "name": "stdout",
     "output_type": "stream",
     "text": [
      "[1, 3, 5, 7, 9, 11, 13, 15, 17, 19, 21, 23, 25, 27, 29, 31, 33, 35, 37, 39, 41, 43, 45, 47, 49, 51, 53, 55, 57, 59, 61, 63, 65, 67, 69, 71, 73, 75, 77, 79, 81, 83, 85, 87, 89, 91, 93, 95, 97, 99]\n"
     ]
    }
   ],
   "source": [
    "num = [n for n in range(1,101)]\n",
    "\n",
    "odd_num = [ n for n in num if n%2!=0]\n",
    "\n",
    "print(odd_num)"
   ]
  },
  {
   "cell_type": "code",
   "execution_count": null,
   "id": "deec4d96-e25e-4dc0-abae-8c40a3ef647c",
   "metadata": {},
   "outputs": [],
   "source": []
  }
 ],
 "metadata": {
  "kernelspec": {
   "display_name": "Python 3 (ipykernel)",
   "language": "python",
   "name": "python3"
  },
  "language_info": {
   "codemirror_mode": {
    "name": "ipython",
    "version": 3
   },
   "file_extension": ".py",
   "mimetype": "text/x-python",
   "name": "python",
   "nbconvert_exporter": "python",
   "pygments_lexer": "ipython3",
   "version": "3.10.8"
  }
 },
 "nbformat": 4,
 "nbformat_minor": 5
}
