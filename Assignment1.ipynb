{
 "cells": [
  {
   "cell_type": "markdown",
   "id": "b6eb1e62-d220-4d27-a56c-4cb3f61cc134",
   "metadata": {},
   "source": [
    "Q1. Create one variable containing following type of data:\n",
    "(i) string\n",
    "(ii) list\n",
    "(iii) float\n",
    "(iv) tuple"
   ]
  },
  {
   "cell_type": "code",
   "execution_count": 9,
   "id": "846ccb8a-c477-4627-899e-e30bfe3e5504",
   "metadata": {},
   "outputs": [],
   "source": [
    "#string \n",
    "\n",
    "str=\"Ritik\"\n",
    "\n",
    "#list\n",
    "\n",
    "list1=[1,2,3,4,'a',\"ritik\"]\n",
    "\n",
    "#float\n",
    "\n",
    "a=9.26\n",
    "\n",
    "#tuple\n",
    "tup=(1,2,3,4,4)"
   ]
  },
  {
   "cell_type": "markdown",
   "id": "cc5e4dee-fdbf-477b-b81a-c85833553ded",
   "metadata": {},
   "source": [
    "Q2. Given are some following variables containing data:\n",
    "(i) var1 = ‘ ‘\n",
    "(ii) var2 = ‘[ DS , ML , Python]’\n",
    "(iii) var3 = [ ‘DS’ , ’ML’ , ‘Python’ ]\n",
    "(iv) var4 = 1."
   ]
  },
  {
   "cell_type": "code",
   "execution_count": 11,
   "id": "f5828024-aea3-4e7f-81fd-dbe432137be6",
   "metadata": {},
   "outputs": [
    {
     "data": {
      "text/plain": [
       "str"
      ]
     },
     "execution_count": 11,
     "metadata": {},
     "output_type": "execute_result"
    }
   ],
   "source": [
    "var1=''\n",
    "type(var1)"
   ]
  },
  {
   "cell_type": "code",
   "execution_count": 12,
   "id": "730b9178-2a8e-481b-b200-03836cdf20aa",
   "metadata": {},
   "outputs": [
    {
     "data": {
      "text/plain": [
       "str"
      ]
     },
     "execution_count": 12,
     "metadata": {},
     "output_type": "execute_result"
    }
   ],
   "source": [
    "var2='[ DS , ML , Python]'\n",
    "type(var2)"
   ]
  },
  {
   "cell_type": "code",
   "execution_count": 13,
   "id": "e00d3d3a-872a-4e69-9f53-463449304cc1",
   "metadata": {},
   "outputs": [
    {
     "data": {
      "text/plain": [
       "list"
      ]
     },
     "execution_count": 13,
     "metadata": {},
     "output_type": "execute_result"
    }
   ],
   "source": [
    "var3=['DS','ML','PYTHON']\n",
    "type(var3)"
   ]
  },
  {
   "cell_type": "code",
   "execution_count": 14,
   "id": "d8ab4318-1a0d-4c9e-b6f2-924b0db894a1",
   "metadata": {},
   "outputs": [
    {
     "data": {
      "text/plain": [
       "int"
      ]
     },
     "execution_count": 14,
     "metadata": {},
     "output_type": "execute_result"
    }
   ],
   "source": [
    "var4 = 1\n",
    "type(var4)"
   ]
  },
  {
   "cell_type": "markdown",
   "id": "5e4b0095-1ab7-4be4-8cc9-e6281088d699",
   "metadata": {},
   "source": [
    "Q3. Explain the use of the following operators using an example:\n",
    "(i) /\n",
    "(ii) %\n",
    "(iii) //\n",
    "(iv) **"
   ]
  },
  {
   "cell_type": "code",
   "execution_count": 15,
   "id": "6f894829-3cc4-4786-b95a-34dffe4df145",
   "metadata": {},
   "outputs": [
    {
     "name": "stdout",
     "output_type": "stream",
     "text": [
      "2.0\n",
      "0\n",
      "2\n",
      "10240000000000\n"
     ]
    }
   ],
   "source": [
    "a=20\n",
    "b=10 \n",
    "\n",
    "\n",
    "print(a/b)\n",
    "\n",
    "print(a%b)\n",
    "\n",
    "print(a//b)\n",
    "\n",
    "print(a**b)"
   ]
  },
  {
   "cell_type": "markdown",
   "id": "5af44dd0-06f0-4405-92fd-3d7f2d96c775",
   "metadata": {},
   "source": [
    "Q4. Create a list of length 10 of your choice containing multiple types of data. Using for loop print the\n",
    "element and its data type."
   ]
  },
  {
   "cell_type": "code",
   "execution_count": 17,
   "id": "90f4d671-3ada-4335-b70f-18ceadc2b912",
   "metadata": {},
   "outputs": [
    {
     "name": "stdout",
     "output_type": "stream",
     "text": [
      "1  ->  <class 'int'>\n",
      "3  ->  <class 'int'>\n",
      "4  ->  <class 'int'>\n",
      "5  ->  <class 'int'>\n",
      "6  ->  <class 'int'>\n",
      "7  ->  <class 'int'>\n",
      "7.56  ->  <class 'float'>\n",
      "8  ->  <class 'int'>\n",
      "ritik  ->  <class 'str'>\n",
      "sonal  ->  <class 'str'>\n",
      "saurabh  ->  <class 'str'>\n",
      "priyansh  ->  <class 'str'>\n"
     ]
    }
   ],
   "source": [
    "list1=[1,3,4,5,6,7,7.56,8,'ritik','sonal','saurabh','priyansh']\n",
    "for i in list1:\n",
    "    print(i ,\" -> \" , type(i))"
   ]
  },
  {
   "cell_type": "markdown",
   "id": "0304dfa3-1801-44fd-92c2-30810386134c",
   "metadata": {},
   "source": [
    "Q5. Using a while loop, verify if the number A is purely divisible by number B and if so then how many\n",
    "times it can be divisible."
   ]
  },
  {
   "cell_type": "code",
   "execution_count": 18,
   "id": "f06129c8-73d4-4b77-98df-b0c6de39551e",
   "metadata": {},
   "outputs": [
    {
     "name": "stdout",
     "output_type": "stream",
     "text": [
      "The number is divisible 2 times.\n"
     ]
    }
   ],
   "source": [
    "A = 100  # Example value for A\n",
    "B = 5    # Example value for B\n",
    "\n",
    "# Initialize the count to 0\n",
    "count = 0\n",
    "\n",
    "# Use a while loop to divide A by B as long as A is divisible by B\n",
    "while A % B == 0:\n",
    "    A = A // B\n",
    "    count += 1\n",
    "\n",
    "# Output the result\n",
    "print(f\"The number is divisible {count} times.\")"
   ]
  },
  {
   "cell_type": "markdown",
   "id": "d7a996fe-42ce-4286-b4be-7c7e51546f3e",
   "metadata": {},
   "source": [
    "Q6. Create a list containing 25 int type data. Using for loop and if-else condition print if the element is\n",
    "divisible by 3 or not."
   ]
  },
  {
   "cell_type": "code",
   "execution_count": 19,
   "id": "cffa2b06-4322-43e6-b609-3e237b7a5316",
   "metadata": {},
   "outputs": [
    {
     "name": "stdout",
     "output_type": "stream",
     "text": [
      "1 is not divisible by 3\n",
      "2 is not divisible by 3\n",
      "3 is divisible by 3\n",
      "4 is not divisible by 3\n",
      "5 is not divisible by 3\n",
      "6 is divisible by 3\n",
      "7 is not divisible by 3\n",
      "8 is not divisible by 3\n",
      "9 is divisible by 3\n",
      "10 is not divisible by 3\n",
      "11 is not divisible by 3\n",
      "12 is divisible by 3\n",
      "13 is not divisible by 3\n",
      "14 is not divisible by 3\n",
      "15 is divisible by 3\n",
      "16 is not divisible by 3\n",
      "17 is not divisible by 3\n",
      "18 is divisible by 3\n",
      "19 is not divisible by 3\n",
      "20 is not divisible by 3\n",
      "21 is divisible by 3\n",
      "22 is not divisible by 3\n",
      "23 is not divisible by 3\n",
      "24 is divisible by 3\n",
      "25 is not divisible by 3\n"
     ]
    }
   ],
   "source": [
    "int_list = [i for i in range(1, 26)]  # Example list with values from 1 to 25\n",
    "\n",
    "# Iterate over the list and check divisibility by 3\n",
    "for num in int_list:\n",
    "    if num % 3 == 0:\n",
    "        print(f\"{num} is divisible by 3\")\n",
    "    else:\n",
    "        print(f\"{num} is not divisible by 3\")"
   ]
  },
  {
   "cell_type": "markdown",
   "id": "dddd3ea0-37c0-4371-a4d6-20b68e5c2c31",
   "metadata": {},
   "source": [
    "Q7. What do you understand about mutable and immutable data types? Give examples for both showing\n",
    "this property."
   ]
  },
  {
   "cell_type": "markdown",
   "id": "9c2cea94-5a77-4d1c-8239-afa7801af491",
   "metadata": {},
   "source": [
    "Mutable Data Types\n",
    "\n",
    "Mutable data types are those that allow you to change their content without changing their identity. In other words, you can modify their elements, and the object itself will remain the same in memory.\n",
    "\n",
    "Examples of Mutable Data Types:\n",
    "\n",
    "1. List\n",
    "2. Dictionary\n",
    "3. Set"
   ]
  },
  {
   "cell_type": "code",
   "execution_count": 20,
   "id": "bf78124d-57f1-4036-ac13-fc369c8dcc51",
   "metadata": {},
   "outputs": [
    {
     "name": "stdout",
     "output_type": "stream",
     "text": [
      "[10, 2, 3]\n"
     ]
    }
   ],
   "source": [
    "# Create a list\n",
    "my_list = [1, 2, 3]\n",
    "\n",
    "# Modify the list\n",
    "my_list[0] = 10\n",
    "\n",
    "print(my_list)  # Output: [10, 2, 3]"
   ]
  },
  {
   "cell_type": "markdown",
   "id": "31ff786d-1a0a-4ac3-8476-775633f72e92",
   "metadata": {},
   "source": [
    "Immutable Data Types\n",
    "\n",
    "Immutable data types are those that do not allow modification after they are created. Any attempt to change their content results in the creation of a new object.\n",
    "\n",
    "Examples of Immutable Data Types:\n",
    "\n",
    "1. String\n",
    "2. Tuple\n",
    "3. Integer\n",
    "4. Float"
   ]
  },
  {
   "cell_type": "code",
   "execution_count": 21,
   "id": "fd1f2541-e7fa-4b65-80ff-e23037728fdc",
   "metadata": {},
   "outputs": [
    {
     "name": "stdout",
     "output_type": "stream",
     "text": [
      "Hello\n",
      "Hello World\n"
     ]
    }
   ],
   "source": [
    "# Create a string\n",
    "my_string = \"Hello\"\n",
    "\n",
    "# Attempt to modify the string\n",
    "# This creates a new string object rather than modifying the original one\n",
    "new_string = my_string + \" World\"\n",
    "\n",
    "print(my_string)   # Output: \"Hello\"\n",
    "print(new_string)  # Output: \"Hello World\"\n"
   ]
  },
  {
   "cell_type": "code",
   "execution_count": null,
   "id": "c3b8106a-df06-4e64-b612-34f44ff47f5b",
   "metadata": {},
   "outputs": [],
   "source": []
  }
 ],
 "metadata": {
  "kernelspec": {
   "display_name": "Python 3 (ipykernel)",
   "language": "python",
   "name": "python3"
  },
  "language_info": {
   "codemirror_mode": {
    "name": "ipython",
    "version": 3
   },
   "file_extension": ".py",
   "mimetype": "text/x-python",
   "name": "python",
   "nbconvert_exporter": "python",
   "pygments_lexer": "ipython3",
   "version": "3.10.8"
  }
 },
 "nbformat": 4,
 "nbformat_minor": 5
}
